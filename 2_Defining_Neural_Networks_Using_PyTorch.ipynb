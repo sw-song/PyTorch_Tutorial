{
  "nbformat": 4,
  "nbformat_minor": 0,
  "metadata": {
    "colab": {
      "name": "2. Defining Neural Networks Using PyTorch.ipynb",
      "provenance": [],
      "authorship_tag": "ABX9TyMs9n0LLGPrZb/mXPy1b0kU",
      "include_colab_link": true
    },
    "kernelspec": {
      "name": "python3",
      "display_name": "Python 3"
    }
  },
  "cells": [
    {
      "cell_type": "markdown",
      "metadata": {
        "id": "view-in-github",
        "colab_type": "text"
      },
      "source": [
        "<a href=\"https://colab.research.google.com/github/sw-song/PyTorch_Tutorial/blob/main/2_Defining_Neural_Networks_Using_PyTorch.ipynb\" target=\"_parent\"><img src=\"https://colab.research.google.com/assets/colab-badge.svg\" alt=\"Open In Colab\"/></a>"
      ]
    },
    {
      "cell_type": "code",
      "metadata": {
        "id": "mRHlyKqgV52T"
      },
      "source": [
        "import torch\n",
        "import torch.nn as nn\n",
        "import torch.nn.functional as F"
      ],
      "execution_count": 1,
      "outputs": []
    },
    {
      "cell_type": "code",
      "metadata": {
        "id": "A7n5klQ7WUcG"
      },
      "source": [
        "class Net(nn.Module):\n",
        "    def __init__(self):\n",
        "        super(Net, self).__init__()\n",
        "\n",
        "        #1st 2D convolution layer\n",
        "        self.conv1 = nn.Conv2d(1, 32, 3, 1)\n",
        "\n",
        "        #2nd 2D convolution layer\n",
        "        self.conv2 = nn.Conv2d(32, 64, 3, 1)\n",
        "\n",
        "        self.dropout1 = nn.Dropout2d(0.25)\n",
        "        self.dropout2 = nn.Dropout2d(0.5)\n",
        "\n",
        "        #1st fully connected layer\n",
        "        self.fc1 = nn.Linear(9216, 128)\n",
        "        self.fc2 = nn.Linear(128,10)\n",
        "\n",
        "    def forward(self, x):\n",
        "        #pass by - conv1\n",
        "        x = self.conv1(x)\n",
        "        #apply ReLU func\n",
        "        x = F.relu(x)\n",
        "\n",
        "        #pass by - conv2\n",
        "        x = self.conv2(x)\n",
        "        #apply ReLU func\n",
        "        x = F.relu(x)\n",
        "\n",
        "        #apply max polling\n",
        "        x = F.max_pool2d(x,2)\n",
        "        #pass by - dropout1\n",
        "        x = self.dropout1(x)\n",
        "        #compresion by 'start_dim=1'\n",
        "        x = torch.flatten(x, 1)\n",
        "        #pass by - fc1\n",
        "        x = self.fc1(x)\n",
        "        #apply ReLU func\n",
        "        x = F.relu(x)\n",
        "        #pass by - dropout2\n",
        "        x = self.dropout2(x)\n",
        "        #pass by - fc1\n",
        "        x = self.fc2(x)\n",
        "\n",
        "        #apply Softmax\n",
        "        output = F.log_softmax(x, dim=1)\n",
        "        return output\n"
      ],
      "execution_count": 4,
      "outputs": []
    },
    {
      "cell_type": "code",
      "metadata": {
        "colab": {
          "base_uri": "https://localhost:8080/"
        },
        "id": "41NGnbvUXGnm",
        "outputId": "8a79c27e-bdfc-419f-e4b2-4a58ea325236"
      },
      "source": [
        "random_data = torch.rand((1,1,28,28))\n",
        "\n",
        "my_nn = Net()\n",
        "result = my_nn(random_data)\n",
        "print(result)"
      ],
      "execution_count": 7,
      "outputs": [
        {
          "output_type": "stream",
          "text": [
            "tensor([[-2.4359, -2.3804, -2.2906, -2.3193, -2.2545, -2.1955, -2.2890, -2.1589,\n",
            "         -2.3825, -2.3534]], grad_fn=<LogSoftmaxBackward>)\n"
          ],
          "name": "stdout"
        }
      ]
    },
    {
      "cell_type": "code",
      "metadata": {
        "id": "YBSy_VhTXI5p"
      },
      "source": [
        ""
      ],
      "execution_count": null,
      "outputs": []
    }
  ]
}